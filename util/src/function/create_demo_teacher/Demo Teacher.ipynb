{
 "cells": [
  {
   "cell_type": "code",
   "execution_count": 54,
   "metadata": {},
   "outputs": [],
   "source": [
    "import logging\n",
    "from util import LOGGER\n",
    "LOGGER.setLevel(logging.INFO)\n",
    "import main\n",
    "func = main.CreateDemoTeacher()\n",
    "import time"
   ]
  },
  {
   "cell_type": "code",
   "execution_count": 55,
   "metadata": {},
   "outputs": [],
   "source": [
    "event = {'path': 'test', 'profile_name': 'dev', 'pathParameters': {'username': 'Tim', 'password': '123456'}}"
   ]
  },
  {
   "cell_type": "code",
   "execution_count": 56,
   "metadata": {},
   "outputs": [
    {
     "name": "stderr",
     "output_type": "stream",
     "text": [
      "INFO:root:Call to Lambda: CreateDemoTeacher\n",
      "INFO:root:Event:\n",
      "INFO:root:{'path': 'test', 'profile_name': 'dev', 'pathParameters': {'username': 'Tim', 'password': '123456'}}\n",
      "INFO:root:Context:\n",
      "INFO:root:None\n",
      "INFO:root:Path: 'test'\n",
      "INFO:botocore.credentials:Found credentials in shared credentials file: ~/.aws/credentials\n",
      "INFO:root:Loading raw data...\n",
      "INFO:root:Adapting data...\n",
      "INFO:root:Pushing data...\n",
      "INFO:root:Lambda finished successfully, returning result...\n"
     ]
    },
    {
     "name": "stdout",
     "output_type": "stream",
     "text": [
      "142.895582914\n"
     ]
    }
   ],
   "source": [
    "start = time.time()\n",
    "func(event, None)\n",
    "print(time.time() - start)"
   ]
  },
  {
   "cell_type": "code",
   "execution_count": null,
   "metadata": {},
   "outputs": [],
   "source": []
  }
 ],
 "metadata": {
  "kernelspec": {
   "display_name": "dyn",
   "language": "python",
   "name": "dyn"
  },
  "language_info": {
   "codemirror_mode": {
    "name": "ipython",
    "version": 2
   },
   "file_extension": ".py",
   "mimetype": "text/x-python",
   "name": "python",
   "nbconvert_exporter": "python",
   "pygments_lexer": "ipython2",
   "version": "2.7.16"
  }
 },
 "nbformat": 4,
 "nbformat_minor": 2
}
